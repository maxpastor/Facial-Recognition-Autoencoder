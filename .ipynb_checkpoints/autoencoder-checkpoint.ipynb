{
 "cells": [
  {
   "cell_type": "code",
   "execution_count": 1,
   "metadata": {
    "collapsed": false
   },
   "outputs": [
    {
     "name": "stderr",
     "output_type": "stream",
     "text": [
      "/usr/lib/python3.6/importlib/_bootstrap.py:219: RuntimeWarning: compiletime version 3.5 of module 'tensorflow.python.framework.fast_tensor_util' does not match runtime version 3.6\n",
      "  return f(*args, **kwds)\n"
     ]
    },
    {
     "name": "stdout",
     "output_type": "stream",
     "text": [
      "everything is imported\n"
     ]
    }
   ],
   "source": [
    "import tensorflow as tf\n",
    "import pandas as pd\n",
    "import numpy as np\n",
    "from scipy import ndimage\n",
    "import random\n",
    "import matplotlib.pyplot as plt\n",
    "print('everything is imported')\n",
    "data_path = './data/orl_faces/s'"
   ]
  },
  {
   "cell_type": "code",
   "execution_count": 2,
   "metadata": {
    "collapsed": false
   },
   "outputs": [
    {
     "name": "stdout",
     "output_type": "stream",
     "text": [
      "14\n",
      "got the data\n"
     ]
    },
    {
     "name": "stderr",
     "output_type": "stream",
     "text": [
      "/usr/lib/python3/dist-packages/ipykernel_launcher.py:3: DeprecationWarning: `imread` is deprecated!\n",
      "`imread` is deprecated in SciPy 1.0.0.\n",
      "Use ``matplotlib.pyplot.imread`` instead.\n",
      "  This is separate from the ipykernel package so we can avoid doing imports until\n",
      "/usr/lib/python3/dist-packages/ipykernel_launcher.py:14: DeprecationWarning: `imread` is deprecated!\n",
      "`imread` is deprecated in SciPy 1.0.0.\n",
      "Use ``matplotlib.pyplot.imread`` instead.\n",
      "  \n",
      "/usr/lib/python3/dist-packages/ipykernel_launcher.py:10: DeprecationWarning: `imread` is deprecated!\n",
      "`imread` is deprecated in SciPy 1.0.0.\n",
      "Use ``matplotlib.pyplot.imread`` instead.\n",
      "  # Remove the CWD from sys.path while we load stuff.\n"
     ]
    }
   ],
   "source": [
    "#Importing the dataset\n",
    "def load_images(different_faces):\n",
    "    image = ndimage.imread(data_path+str(1)+'/'+str(1)+'.pgm', flatten=True)\n",
    "    image = np.reshape(image,[1,92*112])\n",
    "    images_train= []\n",
    "    images_test = []\n",
    "    for i in range(different_faces):\n",
    "        for j in range(10):\n",
    "            if j>6:\n",
    "                image = ndimage.imread(data_path+str(i+1)+'/'+str(j+1)+'.pgm', flatten=True)\n",
    "                image = np.reshape(image,[92*112])\n",
    "                images_test.append(image)\n",
    "            else:\n",
    "                image = ndimage.imread(data_path+str(i+1)+'/'+str(j+1)+'.pgm', flatten=True)\n",
    "                image = np.reshape(image,[92*112])\n",
    "                images_train.append(image)\n",
    "    return images_train, images_test\n",
    "train, test = load_images(5)\n",
    "print(len(train))\n",
    "print(\"got the data\")"
   ]
  },
  {
   "cell_type": "code",
   "execution_count": 3,
   "metadata": {
    "collapsed": true
   },
   "outputs": [],
   "source": [
    "learning_rate = 0.001\n",
    "#Auto Encoder Graph (5 couches divisiées en 2X1X2)\n",
    "auto_x = tf.placeholder(tf.float32, [None, 92*112])\n",
    "auto_y = tf.placeholder(tf.float32, [None, 92*112])\n",
    "\n",
    "n_neurons_1 = 128\n",
    "n_neurons_2 = 64\n",
    "n_out = 92*112\n",
    "n_neurons_inter = 2\n",
    "#Encoder\n",
    "w_hidden_1 = tf.Variable(tf.zeros([92*112, n_neurons_1]))\n",
    "b_hidden_1 =  tf.Variable(tf.zeros([n_neurons_1]))\n",
    "w_hidden_2 = tf.Variable(tf.zeros([n_neurons_1, n_neurons_2]))\n",
    "b_hidden_2 =  tf.Variable(tf.zeros([n_neurons_2]))\n",
    "w_hidden_3 = tf.Variable(tf.zeros([n_neurons_2, n_neurons_inter]))\n",
    "b_hidden_3 =  tf.Variable(tf.zeros([n_neurons_inter]))\n",
    "#inter\n",
    "w_hidden_inter = tf.Variable(tf.zeros([n_neurons_inter, n_neurons_2]))\n",
    "b_hidden_inter =  tf.Variable(tf.zeros([n_neurons_2]))\n",
    "#Decoder\n",
    "w_hidden_4 = tf.Variable(tf.zeros([n_neurons_2, n_neurons_1]))\n",
    "b_hidden_4 =  tf.Variable(tf.zeros([n_neurons_1]))\n",
    "w_out= tf.Variable(tf.zeros([n_neurons_1, n_out]))\n",
    "b_out =  tf.Variable(tf.zeros([n_out]))\n",
    "\n",
    "#Encoder\n",
    "hidden_1 =  tf.nn.sigmoid(tf.add(tf.matmul(auto_x, w_hidden_1),b_hidden_1))\n",
    "hidden_2 =  tf.nn.sigmoid(tf.add(tf.matmul(hidden_1, w_hidden_2),b_hidden_2))\n",
    "hidden_3 =  tf.nn.sigmoid(tf.add(tf.matmul(hidden_2, w_hidden_3),b_hidden_3))\n",
    "#Inter\n",
    "inter =  tf.nn.sigmoid(tf.add(tf.matmul(hidden_3, w_hidden_inter),b_hidden_inter))\n",
    "#Decoder\n",
    "hidden_4 =  tf.nn.sigmoid(tf.add(tf.matmul(inter, w_hidden_4),b_hidden_4))\n",
    "out =  tf.add(tf.matmul(hidden_4, w_out),b_out)\n",
    "\n",
    "#Loss\n",
    "loss_auto = tf.reduce_sum(tf.losses.mean_squared_error(labels = auto_y, predictions = out))\n",
    "#Optimizer\n",
    "opt_auto = tf.train.AdamOptimizer(learning_rate).minimize(loss_auto)"
   ]
  },
  {
   "cell_type": "code",
   "execution_count": 4,
   "metadata": {
    "collapsed": false
   },
   "outputs": [
    {
     "ename": "ValueError",
     "evalue": "empty range for randrange() (0,-15, -15)",
     "output_type": "error",
     "traceback": [
      "\u001b[0;31m---------------------------------------------------------------------------\u001b[0m",
      "\u001b[0;31mValueError\u001b[0m                                Traceback (most recent call last)",
      "\u001b[0;32m<ipython-input-4-f6aa82a580ee>\u001b[0m in \u001b[0;36m<module>\u001b[0;34m()\u001b[0m\n\u001b[1;32m      2\u001b[0m \u001b[0mepochs\u001b[0m \u001b[0;34m=\u001b[0m \u001b[0;36m6000\u001b[0m\u001b[0;34m\u001b[0m\u001b[0m\n\u001b[1;32m      3\u001b[0m \u001b[0mdisplay_steps\u001b[0m \u001b[0;34m=\u001b[0m \u001b[0;36m1000\u001b[0m\u001b[0;34m\u001b[0m\u001b[0m\n\u001b[0;32m----> 4\u001b[0;31m \u001b[0mrandom_index\u001b[0m \u001b[0;34m=\u001b[0m \u001b[0mrandom\u001b[0m\u001b[0;34m.\u001b[0m\u001b[0mrandint\u001b[0m\u001b[0;34m(\u001b[0m\u001b[0;36m0\u001b[0m\u001b[0;34m,\u001b[0m\u001b[0mlen\u001b[0m\u001b[0;34m(\u001b[0m\u001b[0mtrain\u001b[0m\u001b[0;34m)\u001b[0m\u001b[0;34m-\u001b[0m\u001b[0;36m30\u001b[0m\u001b[0;34m)\u001b[0m\u001b[0;34m\u001b[0m\u001b[0m\n\u001b[0m\u001b[1;32m      5\u001b[0m \u001b[0minit\u001b[0m \u001b[0;34m=\u001b[0m \u001b[0mtf\u001b[0m\u001b[0;34m.\u001b[0m\u001b[0minitialize_all_variables\u001b[0m\u001b[0;34m(\u001b[0m\u001b[0;34m)\u001b[0m\u001b[0;34m\u001b[0m\u001b[0m\n\u001b[1;32m      6\u001b[0m \u001b[0;32mwith\u001b[0m \u001b[0mtf\u001b[0m\u001b[0;34m.\u001b[0m\u001b[0mSession\u001b[0m\u001b[0;34m(\u001b[0m\u001b[0;34m)\u001b[0m \u001b[0;32mas\u001b[0m \u001b[0msess\u001b[0m\u001b[0;34m:\u001b[0m\u001b[0;34m\u001b[0m\u001b[0m\n",
      "\u001b[0;32m/usr/lib/python3.6/random.py\u001b[0m in \u001b[0;36mrandint\u001b[0;34m(self, a, b)\u001b[0m\n\u001b[1;32m    218\u001b[0m         \"\"\"\n\u001b[1;32m    219\u001b[0m \u001b[0;34m\u001b[0m\u001b[0m\n\u001b[0;32m--> 220\u001b[0;31m         \u001b[0;32mreturn\u001b[0m \u001b[0mself\u001b[0m\u001b[0;34m.\u001b[0m\u001b[0mrandrange\u001b[0m\u001b[0;34m(\u001b[0m\u001b[0ma\u001b[0m\u001b[0;34m,\u001b[0m \u001b[0mb\u001b[0m\u001b[0;34m+\u001b[0m\u001b[0;36m1\u001b[0m\u001b[0;34m)\u001b[0m\u001b[0;34m\u001b[0m\u001b[0m\n\u001b[0m\u001b[1;32m    221\u001b[0m \u001b[0;34m\u001b[0m\u001b[0m\n\u001b[1;32m    222\u001b[0m     def _randbelow(self, n, int=int, maxsize=1<<BPF, type=type,\n",
      "\u001b[0;32m/usr/lib/python3.6/random.py\u001b[0m in \u001b[0;36mrandrange\u001b[0;34m(self, start, stop, step, _int)\u001b[0m\n\u001b[1;32m    196\u001b[0m             \u001b[0;32mreturn\u001b[0m \u001b[0mistart\u001b[0m \u001b[0;34m+\u001b[0m \u001b[0mself\u001b[0m\u001b[0;34m.\u001b[0m\u001b[0m_randbelow\u001b[0m\u001b[0;34m(\u001b[0m\u001b[0mwidth\u001b[0m\u001b[0;34m)\u001b[0m\u001b[0;34m\u001b[0m\u001b[0m\n\u001b[1;32m    197\u001b[0m         \u001b[0;32mif\u001b[0m \u001b[0mstep\u001b[0m \u001b[0;34m==\u001b[0m \u001b[0;36m1\u001b[0m\u001b[0;34m:\u001b[0m\u001b[0;34m\u001b[0m\u001b[0m\n\u001b[0;32m--> 198\u001b[0;31m             \u001b[0;32mraise\u001b[0m \u001b[0mValueError\u001b[0m\u001b[0;34m(\u001b[0m\u001b[0;34m\"empty range for randrange() (%d,%d, %d)\"\u001b[0m \u001b[0;34m%\u001b[0m \u001b[0;34m(\u001b[0m\u001b[0mistart\u001b[0m\u001b[0;34m,\u001b[0m \u001b[0mistop\u001b[0m\u001b[0;34m,\u001b[0m \u001b[0mwidth\u001b[0m\u001b[0;34m)\u001b[0m\u001b[0;34m)\u001b[0m\u001b[0;34m\u001b[0m\u001b[0m\n\u001b[0m\u001b[1;32m    199\u001b[0m \u001b[0;34m\u001b[0m\u001b[0m\n\u001b[1;32m    200\u001b[0m         \u001b[0;31m# Non-unit step argument supplied.\u001b[0m\u001b[0;34m\u001b[0m\u001b[0;34m\u001b[0m\u001b[0m\n",
      "\u001b[0;31mValueError\u001b[0m: empty range for randrange() (0,-15, -15)"
     ]
    }
   ],
   "source": [
    "#Train autoencoder\n",
    "epochs = 6000\n",
    "display_steps = 1000\n",
    "random_index = random.randint(0,len(train)-30)\n",
    "init = tf.initialize_all_variables()\n",
    "with tf.Session() as sess:\n",
    "    sess.run(init)\n",
    "    for i in range(epochs):\n",
    "        _, loss = sess.run([opt_auto, loss_auto], feed_dict={auto_x: train[random_index:random_index+30], auto_y:train[random_index:random_index+30]})\n",
    "        if i % display_steps ==0:\n",
    "            loss = sess.run(loss_auto, feed_dict={auto_x: train, auto_y:train})\n",
    "            print(\"Epoch:\"+str(i)+\" Loss= \"+str(loss))\n",
    "    image_1 = np.reshape(train[0], [112,92])\n",
    "    image_generated = np.reshape(out.eval({auto_x:[train[0]]}), [112,92])\n",
    "    fig = plt.figure(figsize=(6, 6))\n",
    "    ax = fig.add_subplot(111)\n",
    "    ax.imshow(image_1, cmap=\"gray\")\n",
    "    print(\"done\")\n",
    "    plt.show()\n",
    "    fig = plt.figure(figsize=(6, 6))\n",
    "    ax = fig.add_subplot(111)\n",
    "    ax.imshow(image_generated, cmap=\"gray\")\n",
    "    plt.show()"
   ]
  }
 ],
 "metadata": {
  "kernelspec": {
   "display_name": "Python 3",
   "language": "python",
   "name": "python3"
  },
  "language_info": {
   "codemirror_mode": {
    "name": "ipython",
    "version": 3
   },
   "file_extension": ".py",
   "mimetype": "text/x-python",
   "name": "python",
   "nbconvert_exporter": "python",
   "pygments_lexer": "ipython3",
   "version": "3.6.3"
  }
 },
 "nbformat": 4,
 "nbformat_minor": 2
}
